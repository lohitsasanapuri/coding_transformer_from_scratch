{
 "cells": [
  {
   "cell_type": "code",
   "execution_count": 3,
   "metadata": {},
   "outputs": [
    {
     "name": "stdout",
     "output_type": "stream",
     "text": [
      "Collecting translate\n",
      "  Downloading translate-3.6.1-py2.py3-none-any.whl.metadata (7.7 kB)\n",
      "Requirement already satisfied: click in c:\\users\\lohit\\appdata\\local\\programs\\python\\python310\\lib\\site-packages (from translate) (8.2.1)\n",
      "Requirement already satisfied: lxml in c:\\users\\lohit\\appdata\\local\\programs\\python\\python310\\lib\\site-packages (from translate) (5.4.0)\n",
      "Requirement already satisfied: requests in c:\\users\\lohit\\appdata\\local\\programs\\python\\python310\\lib\\site-packages (from translate) (2.32.3)\n",
      "Collecting libretranslatepy==2.1.1 (from translate)\n",
      "  Downloading libretranslatepy-2.1.1-py3-none-any.whl.metadata (233 bytes)\n",
      "Requirement already satisfied: colorama in c:\\users\\lohit\\appdata\\local\\programs\\python\\python310\\lib\\site-packages (from click->translate) (0.4.6)\n",
      "Requirement already satisfied: charset-normalizer<4,>=2 in c:\\users\\lohit\\appdata\\local\\programs\\python\\python310\\lib\\site-packages (from requests->translate) (3.4.2)\n",
      "Requirement already satisfied: idna<4,>=2.5 in c:\\users\\lohit\\appdata\\local\\programs\\python\\python310\\lib\\site-packages (from requests->translate) (3.10)\n",
      "Requirement already satisfied: urllib3<3,>=1.21.1 in c:\\users\\lohit\\appdata\\local\\programs\\python\\python310\\lib\\site-packages (from requests->translate) (2.5.0)\n",
      "Requirement already satisfied: certifi>=2017.4.17 in c:\\users\\lohit\\appdata\\local\\programs\\python\\python310\\lib\\site-packages (from requests->translate) (2025.7.14)\n",
      "Downloading translate-3.6.1-py2.py3-none-any.whl (12 kB)\n",
      "Downloading libretranslatepy-2.1.1-py3-none-any.whl (3.2 kB)\n",
      "Installing collected packages: libretranslatepy, translate\n",
      "\n",
      "   -------------------- ------------------- 1/2 [translate]\n",
      "   ---------------------------------------- 2/2 [translate]\n",
      "\n",
      "Successfully installed libretranslatepy-2.1.1 translate-3.6.1\n"
     ]
    }
   ],
   "source": [
    "!pip install translate"
   ]
  },
  {
   "cell_type": "code",
   "execution_count": 4,
   "metadata": {},
   "outputs": [],
   "source": [
    "from pathlib import Path\n",
    "import torch\n",
    "import torch.nn as nn\n",
    "from config import get_config, get_weights_file_path\n",
    "from train import get_model, get_ds, run_validation\n",
    "from translate import translate"
   ]
  },
  {
   "cell_type": "code",
   "execution_count": 8,
   "metadata": {},
   "outputs": [
    {
     "name": "stdout",
     "output_type": "stream",
     "text": [
      "Using device: cpu\n",
      "Max source length: 15\n",
      "Max target length: 13\n"
     ]
    },
    {
     "data": {
      "text/plain": [
       "<All keys matched successfully>"
      ]
     },
     "execution_count": 8,
     "metadata": {},
     "output_type": "execute_result"
    }
   ],
   "source": [
    "# Define the device\n",
    "device = torch.device(\"cuda\" if torch.cuda.is_available() else \"cpu\")\n",
    "print(\"Using device:\", device)\n",
    "config = get_config()\n",
    "train_dataloader, val_dataloader, tokenizer_src, tokenizer_tgt = get_ds(config)\n",
    "model = get_model(config, tokenizer_src.get_vocab_size(), tokenizer_tgt.get_vocab_size()).to(device)\n",
    "\n",
    "# Load the pretrained weights\n",
    "model_filename = get_weights_file_path(config,'020')\n",
    "state = torch.load(model_filename)\n",
    "model.load_state_dict(state['model_state_dict'])"
   ]
  },
  {
   "cell_type": "code",
   "execution_count": 14,
   "metadata": {},
   "outputs": [
    {
     "name": "stdout",
     "output_type": "stream",
     "text": [
      "--------------------------------------------------------------------------------\n",
      "Source:    \"It is well I drew the curtain,\" thought I; and I wished fervently he might not discover my hiding-place: nor would John Reed have found it out himself; he was not quick either of vision or conception; but Eliza just put her head in at the door, and said at once--\n",
      "Target:    — Ho fatto bene a tirare la tenda, — pensavo fra me; e mi auguravo sinceramente che non scoprissero il mio nascondiglio. John non lo avrebbe mai trovato da sè stesso: non aveva lo sguardo pronto; ma Eliza, avendo sporto la testa dall'uscio, esclamò:\n",
      "Predicted: — No , — risposi , — risposi . — Ieri sera con me , sentendo che la cena Abbot , e la cena mi fece anche i suoi difetti di disturbare né Abbot mi la vedo più tagliati .\n",
      "--------------------------------------------------------------------------------\n",
      "Source:    He gorged himself habitually at table, which made him bilious, and gave him a dim and bleared eye and flabby cheeks.\n",
      "Target:    Soleva mangiare avidamente, e ciò avevagli prodotta quella tinta biliosa, quello sguardo turbato e quelle guancie flosce.\n",
      "Predicted: Io ero sopra un lettino , largo come un sedile e mi disse :\n",
      "--------------------------------------------------------------------------------\n",
      "Source:    \"Where the dickens is she!\" he continued. \"Lizzy!\n",
      "Target:    Poi tacque, perché gli parve che la stanza fosse deserta. — Per bacco, dov'è?\n",
      "Predicted: — È un pastore , e si dice che faccia molto bene .\n",
      "--------------------------------------------------------------------------------\n",
      "Source:    It must have been most irksome to find herself bound by a hard-wrung pledge to stand in the stead of a parent to a strange child she could not love, and to see an uncongenial alien permanently intruded on her own family group.\n",
      "Target:    Era pentita di essersi impegnata con una promessa solenne a far da madre a una bambina cui non poteva voler bene e di vedere un'estranea mescolata al gruppo della sua famiglia.\n",
      "Predicted: Non potevo rammentarmi di campagna , se sapevo che di più più più più né essi , ma più più né più né più né .\n",
      "--------------------------------------------------------------------------------\n",
      "Source:    The words in these introductory pages connected themselves with the succeeding vignettes, and gave significance to the rock standing up alone in a sea of billow and spray; to the broken boat stranded on a desolate coast; to the cold and ghastly moon glancing through bars of cloud at a wreck just sinking.\n",
      "Target:    In quella introduzione il testo, accordandosi con le figure, dava un significato allo scoglio isolato in mezzo a un mare di onde e di spuma, alla nave gettata su una costa desolata, alla fredda e fantastica luna, che, spingendo i suoi raggi luminosi attraverso un cumulo di nubi, illuminava appunto un'altra scena di naufragio.\n",
      "Predicted: sulla facciata specialmente , la terra e la un cavallo del terzo piano , romanze , alcuni abbattuti , che era serena di vincere il bosco in una costa desolata , e fantastica luna e fantastica luna ci davano presto ), la terra .\n",
      "--------------------------------------------------------------------------------\n",
      "Source:    Miss Abbot joined in-- \"And you ought not to think yourself on an equality with the Misses Reed and Master Reed, because Missis kindly allows you to be brought up with them.\n",
      "Target:    La signorina Abbot soggiunse: — Spero che non vi crederete eguale alle signorine e al signor Reed, perché la signora è così buona da farvi educare insieme con loro.\n",
      "Predicted: Non osavo rispondere per timore di sentir quella voce aspra . — dissi . — dissi , perché non so tutte tutte le sue dita il resto con tutte le sue spalle con tutte le spalle con tutte nella voce .\n",
      "--------------------------------------------------------------------------------\n",
      "Source:    A breakfast-room adjoined the drawing-room, I slipped in there.\n",
      "Target:    Una piccola sala da pranzo metteva nel salotto, andai in quella pian piano.\n",
      "Predicted: Ella si fermò che io fui vicina , ma i miei nervi e di quindicina , tornò a cantare tornò al freddo e di ghiaccio e i miei nervi ne .\n",
      "--------------------------------------------------------------------------------\n",
      "Source:    \"Unjust!--unjust!\" said my reason, forced by the agonising stimulus into precocious though transitory power: and Resolve, equally wrought up, instigated some strange expedient to achieve escape from insupportable oppression--as running away, or, if that could not be effected, never eating or drinking more, and letting myself die.\n",
      "Target:    Ingiustizia! — gridava la mia ragione eccitata dal doloroso stimolo di una precoce energia. Tutto ciò che vi era in me di risoluzione, mi faceva pensare ai mezzi più disperati per togliermi a quella oppressione; pensavo a fuggire, o, se non mi riusciva, a ricusare cibi e bevande per morir di fame.\n",
      "Predicted: — No , — risposi , — risposi . — Ieri sera con me , sentendo che le ragazze , che le ragazze si avvicinò a disturbare né disturbare né lei .\n",
      "--------------------------------------------------------------------------------\n",
      "Source:    Me, she had dispensed from joining the group; saying, \"She regretted to be under the necessity of keeping me at a distance; but that until she heard from Bessie, and could discover by her own observation, that I was endeavouring in good earnest to acquire a more sociable and childlike disposition, a more attractive and sprightly manner--something lighter, franker, more natural, as it were--she really must exclude me from privileges intended only for contented, happy, little children.\"\n",
      "Target:    Ella mi aveva proibito di unirmi al loro gruppo, dicendo che deplorava la necessità in cui trovavasi di tenermi così lontana, ma che fino al momento in cui Bessie non guarentirebbe che mi studiavo di acquistare un carattere più socievole e più infantile, maniere più cortesi e qualcosa di più radioso, di più aperto, di più sincero, non poteva concedermi gli stessi privilegi che ai bambini allegri e soddisfatti.\n",
      "Predicted: la testa da cui la sua età , ma le sue , i gusti di John non potevano essere .\n",
      "--------------------------------------------------------------------------------\n",
      "Source:    Out of these deep surrounding shades rose high, and glared white, the piled- up mattresses and pillows of the bed, spread with a snowy Marseilles counterpane.\n",
      "Target:    In mezzo a questo cupo arredamento, s'inalzava sul letto e si staccava in bianco, un mucchio di materasse abballinate e di guanciali, nascosti da una coperta di Marsiglia.\n",
      "Predicted: allora la testa e i ghiacci ; il sole mi parvero meno piano e . La porta si fermò in una scampanellata mi portava il mio modo .\n"
     ]
    }
   ],
   "source": [
    "run_validation(\n",
    "    model, val_dataloader, tokenizer_src, tokenizer_tgt, device,\n",
    "    print_msg=lambda msg: print(msg),\n",
    "    writer=None,\n",
    "    num_examples=10,\n",
    "    globel_state=None\n",
    ")"
   ]
  }
 ],
 "metadata": {
  "kernelspec": {
   "display_name": "Python 3",
   "language": "python",
   "name": "python3"
  },
  "language_info": {
   "codemirror_mode": {
    "name": "ipython",
    "version": 3
   },
   "file_extension": ".py",
   "mimetype": "text/x-python",
   "name": "python",
   "nbconvert_exporter": "python",
   "pygments_lexer": "ipython3",
   "version": "3.10.11"
  },
  "orig_nbformat": 4
 },
 "nbformat": 4,
 "nbformat_minor": 2
}
